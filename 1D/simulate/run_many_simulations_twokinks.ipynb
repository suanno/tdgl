{
 "cells": [
  {
   "cell_type": "code",
   "execution_count": 5,
   "metadata": {},
   "outputs": [],
   "source": [
    "import numpy as np\n",
    "from matplotlib import pyplot as plt\n",
    "import os\n",
    "import shutil"
   ]
  },
  {
   "cell_type": "code",
   "execution_count": 6,
   "metadata": {},
   "outputs": [],
   "source": [
    "max_time = 2000000"
   ]
  },
  {
   "cell_type": "code",
   "execution_count": 7,
   "metadata": {},
   "outputs": [
    {
     "name": "stdout",
     "output_type": "stream",
     "text": [
      "t = 1000.000000\n",
      "t = 2000.000000\n",
      "t = 3000.000000\n",
      "Saved!\n",
      "t = 1000.000000\n",
      "t = 2000.000000\n",
      "t = 3000.000000\n",
      "t = 4000.000000\n",
      "t = 5000.000000\n",
      "t = 6000.000000\n",
      "t = 7000.000000\n",
      "t = 8000.000000\n",
      "t = 9000.000000\n",
      "t = 10000.000000\n",
      "t = 11000.000000\n",
      "t = 12000.000000\n",
      "t = 13000.000000\n",
      "Saved!\n",
      "t = 1000.000000\n",
      "t = 2000.000000\n",
      "t = 3000.000000\n",
      "t = 4000.000000\n",
      "t = 5000.000000\n",
      "t = 6000.000000\n",
      "t = 7000.000000\n",
      "t = 8000.000000\n",
      "t = 9000.000000\n",
      "t = 10000.000000\n",
      "t = 11000.000000\n",
      "t = 12000.000000\n",
      "t = 13000.000000\n",
      "t = 14000.000000\n",
      "t = 15000.000000\n",
      "t = 16000.000000\n",
      "t = 17000.000000\n",
      "t = 18000.000000\n",
      "t = 19000.000000\n",
      "t = 20000.000000\n",
      "t = 21000.000000\n",
      "t = 22000.000000\n",
      "t = 23000.000000\n",
      "t = 24000.000000\n",
      "t = 25000.000000\n",
      "t = 26000.000000\n",
      "t = 27000.000000\n",
      "t = 28000.000000\n",
      "t = 29000.000000\n",
      "t = 30000.000000\n",
      "t = 31000.000000\n",
      "t = 32000.000000\n",
      "t = 33000.000000\n",
      "t = 34000.000000\n",
      "t = 35000.000000\n",
      "t = 36000.000000\n",
      "t = 37000.000000\n",
      "t = 38000.000000\n",
      "t = 39000.000000\n",
      "t = 40000.000000\n",
      "t = 41000.000000\n",
      "t = 42000.000000\n",
      "t = 43000.000000\n",
      "t = 44000.000000\n",
      "t = 45000.000000\n",
      "t = 46000.000000\n",
      "t = 47000.000000\n",
      "t = 48000.000000\n",
      "t = 49000.000000\n",
      "t = 50000.000000\n",
      "t = 51000.000000\n",
      "t = 52000.000000\n",
      "t = 53000.000000\n",
      "t = 54000.000000\n",
      "t = 55000.000000\n",
      "t = 56000.000000\n",
      "t = 57000.000000\n",
      "t = 58000.000000\n",
      "t = 59000.000000\n",
      "t = 60000.000000\n",
      "t = 61000.000000\n",
      "Saved!\n"
     ]
    }
   ],
   "source": [
    "Cbar_list = np.array([0.5])\n",
    "T_list = np.array([100])\n",
    "A_list = np.array([1])\n",
    "d_list = np.array([30,35,40])\n",
    "dx = 0.1\n",
    "dt = 0.1\n",
    "\n",
    "time = 0\n",
    "for d0 in d_list:\n",
    "    for T in T_list:\n",
    "        for A in A_list:\n",
    "            for Cbar in Cbar_list:\n",
    "                # Prepare the state (twokinks)\n",
    "                L = 128\n",
    "                N = int(L/dx)\n",
    "                #d0 = 20\n",
    "                u0 = np.sqrt(Cbar)\n",
    "\n",
    "                os.system(\"cd ..; ./.bin/twokinks \"+str(N)+\" \"+str(d0)+\" \"+str(u0))\n",
    "                simul_name = \"Cbar=\"+str(round(Cbar,2))+\"/T=\"+str(round(T,3))+\"/A=\"+str(round(A,3))+\"/\"\n",
    "                dir_save = \"twokinks/d0=\"+str(round(d0))+\"/\" + simul_name\n",
    "                dir = \"../.saves/\" + dir_save; \n",
    "\n",
    "                dx = 0.1\n",
    "                L = N*dx\n",
    "\n",
    "                # Run simulation\n",
    "                tspan = 1000\n",
    "                annhilated = 0\n",
    "                while (annhilated == 0 and time < max_time):\n",
    "                    os.system(\"cd ..; ./.bin/tdgl \"+str(tspan)+\" \"+str(A)+\" \"+str(T)+\" \"+str(Cbar)+\" 0 \"+str(dt))\n",
    "                    # Check if they are annhilated\n",
    "                    dtreshold = dx\n",
    "                    # Read distance\n",
    "                    f = open(\"../filekinkdist.dat\", \"r\")\n",
    "                    for row in f:\n",
    "                        a, b = row.split(\" \")\n",
    "                        if float(b) < dtreshold:\n",
    "                            annhilated = 1\n",
    "                    time = time + tspan\n",
    "                # Save\n",
    "                if not os.path.isdir(dir):\n",
    "                    os.makedirs(dir)\n",
    "                #shutil.copyfile(\"tdgl_result.dat\", dir + \"tdgl_result.dat\")\n",
    "                #shutil.copyfile(\"uxx.dat\", dir + \"uxx.dat\")\n",
    "                #shutil.copyfile(\"fileAveout.dat\", dir + \"fileAveout.dat\")\n",
    "                shutil.copyfile(\"../fileCout.dat\", dir + \"fileCout.dat\")\n",
    "                shutil.copyfile(\"../filekinkdist.dat\", dir + \"filekinkdist.dat\")\n",
    "                shutil.copyfile(\"../tdgl_result.dat\", dir + \"tdgl_result.dat\")\n",
    "                shutil.copyfile(\"../parameters.dat\", dir + \"parameters.dat\")\n",
    "                print(\"Saved!\")"
   ]
  },
  {
   "cell_type": "code",
   "execution_count": 8,
   "metadata": {},
   "outputs": [
    {
     "data": {
      "text/plain": [
       "'../.saves/twokinks/d0=40/Cbar=0.5/T=100/A=1/'"
      ]
     },
     "execution_count": 8,
     "metadata": {},
     "output_type": "execute_result"
    }
   ],
   "source": [
    "os.path.isdir(dir)\n",
    "dir"
   ]
  },
  {
   "cell_type": "code",
   "execution_count": null,
   "metadata": {},
   "outputs": [],
   "source": []
  }
 ],
 "metadata": {
  "kernelspec": {
   "display_name": "Python 3",
   "language": "python",
   "name": "python3"
  },
  "language_info": {
   "codemirror_mode": {
    "name": "ipython",
    "version": 3
   },
   "file_extension": ".py",
   "mimetype": "text/x-python",
   "name": "python",
   "nbconvert_exporter": "python",
   "pygments_lexer": "ipython3",
   "version": "3.10.12"
  }
 },
 "nbformat": 4,
 "nbformat_minor": 2
}
