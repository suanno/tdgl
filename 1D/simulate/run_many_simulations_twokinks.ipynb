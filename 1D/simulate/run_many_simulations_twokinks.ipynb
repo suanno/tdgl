{
 "cells": [
  {
   "cell_type": "code",
   "execution_count": 5,
   "metadata": {},
   "outputs": [],
   "source": [
    "import numpy as np\n",
    "from matplotlib import pyplot as plt\n",
    "import os\n",
    "import shutil"
   ]
  },
  {
   "cell_type": "code",
   "execution_count": 6,
   "metadata": {},
   "outputs": [],
   "source": [
    "max_time = 2000000"
   ]
  },
  {
   "cell_type": "code",
   "execution_count": 7,
   "metadata": {},
   "outputs": [
    {
     "name": "stdout",
     "output_type": "stream",
     "text": [
      "t = 1000.000000\n",
      "Saved!\n"
     ]
    }
   ],
   "source": [
    "Cbar_list = np.array([0.5])\n",
    "T_list = np.array([50])\n",
    "A_list = np.array([1])\n",
    "dx = 0.1\n",
    "dt = 0.1\n",
    "\n",
    "time = 0\n",
    "for Cbar in Cbar_list:\n",
    "    for T in T_list:\n",
    "        for A in A_list:\n",
    "            # Prepare the state (twokinks)\n",
    "            L = 128\n",
    "            N = int(L/dx)\n",
    "            d0 = 20\n",
    "            u0 = np.sqrt(Cbar)\n",
    "\n",
    "            os.system(\"cd ..; ./.bin/twokinks \"+str(N)+\" \"+str(d0)+\" \"+str(u0))\n",
    "            simul_name = \"Cbar=\"+str(round(Cbar,2))+\"/T=\"+str(round(T,3))+\"/A=\"+str(round(A,3))+\"/\"\n",
    "            dir_save = \"twokinks/d0=\"+str(round(d0))+\"/\" + simul_name\n",
    "            dir = \"../.saves/\" + dir_save; \n",
    "\n",
    "            dx = 0.1\n",
    "            L = N*dx\n",
    "\n",
    "            # Run simulation\n",
    "            tspan = 1000\n",
    "            annhilated = 0\n",
    "            while (annhilated == 0 and time < max_time):\n",
    "                os.system(\"cd ..; ./.bin/tdgl \"+str(tspan)+\" \"+str(A)+\" \"+str(T)+\" \"+str(Cbar)+\" 0 \"+str(dt));\n",
    "                # Check if they are annhilated\n",
    "                dtreshold = dx\n",
    "                # Read distance\n",
    "                f = open(\"../filekinkdist.dat\", \"r\")\n",
    "                for row in f:\n",
    "                    a, b = row.split(\" \")\n",
    "                    if float(b) < dtreshold:\n",
    "                        annhilated = 1\n",
    "                time = time + tspan\n",
    "            # Save\n",
    "            if not os.path.isdir(dir):\n",
    "                os.makedirs(dir)\n",
    "            #shutil.copyfile(\"tdgl_result.dat\", dir + \"tdgl_result.dat\")\n",
    "            #shutil.copyfile(\"uxx.dat\", dir + \"uxx.dat\")\n",
    "            #shutil.copyfile(\"fileAveout.dat\", dir + \"fileAveout.dat\")\n",
    "            shutil.copyfile(\"../fileCout.dat\", dir + \"fileCout.dat\")\n",
    "            shutil.copyfile(\"../filekinkdist.dat\", dir + \"filekinkdist.dat\")\n",
    "            shutil.copyfile(\"../tdgl_result.dat\", dir + \"tdgl_result.dat\")\n",
    "            shutil.copyfile(\"../parameters.dat\", dir + \"parameters.dat\")\n",
    "            print(\"Saved!\")"
   ]
  },
  {
   "cell_type": "code",
   "execution_count": 8,
   "metadata": {},
   "outputs": [
    {
     "data": {
      "text/plain": [
       "'../.saves/twokinks/d0=20/Cbar=0.5/T=50/A=1/'"
      ]
     },
     "execution_count": 8,
     "metadata": {},
     "output_type": "execute_result"
    }
   ],
   "source": [
    "os.path.isdir(dir)\n",
    "dir"
   ]
  },
  {
   "cell_type": "code",
   "execution_count": null,
   "metadata": {},
   "outputs": [],
   "source": []
  }
 ],
 "metadata": {
  "kernelspec": {
   "display_name": "Python 3",
   "language": "python",
   "name": "python3"
  },
  "language_info": {
   "codemirror_mode": {
    "name": "ipython",
    "version": 3
   },
   "file_extension": ".py",
   "mimetype": "text/x-python",
   "name": "python",
   "nbconvert_exporter": "python",
   "pygments_lexer": "ipython3",
   "version": "3.10.12"
  }
 },
 "nbformat": 4,
 "nbformat_minor": 2
}
