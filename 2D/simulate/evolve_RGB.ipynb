{
 "cells": [
  {
   "cell_type": "code",
   "execution_count": 1,
   "metadata": {},
   "outputs": [],
   "source": [
    "import os\n",
    "import numpy as np\n",
    "from matplotlib import pyplot as plt\n",
    "import imageio"
   ]
  },
  {
   "cell_type": "code",
   "execution_count": null,
   "metadata": {},
   "outputs": [
    {
     "name": "stdout",
     "output_type": "stream",
     "text": [
      "Reading C(t) from file. From t = 0.690000\n",
      "Finish reading C(t) from file. Until t = 0.700000\n",
      "\n",
      " Starting evolution...\n",
      "Number time steps going to simulate = 2\n",
      "\n",
      " Saving... tmax = 0.700000\n",
      "Reading C(t) from file. From t = 0.690000\n",
      "Finish reading C(t) from file. Until t = 0.700000\n",
      "\n",
      " Starting evolution...\n",
      "Number time steps going to simulate = 2\n",
      "\n",
      " Saving... tmax = 0.700000\n",
      "Reading C(t) from file. From t = 0.680000\n",
      "Finish reading C(t) from file. Until t = 0.690000\n",
      "\n",
      " Starting evolution...\n",
      "Number time steps going to simulate = 2\n",
      "\n",
      " Saving... tmax = 0.690000\n"
     ]
    },
    {
     "name": "stderr",
     "output_type": "stream",
     "text": [
      "Clipping input data to the valid range for imshow with RGB data ([0..1] for floats or [0..255] for integers).\n"
     ]
    },
    {
     "name": "stdout",
     "output_type": "stream",
     "text": [
      "Reading C(t) from file. From t = 0.700000\n",
      "Finish reading C(t) from file. Until t = 0.710000\n",
      "\n",
      " Starting evolution...\n",
      "Number time steps going to simulate = 2\n",
      "\n",
      " Saving... tmax = 0.710000\n",
      "Reading C(t) from file. From t = 0.700000\n",
      "Finish reading C(t) from file. Until t = 0.710000\n",
      "\n",
      " Starting evolution...\n",
      "Number time steps going to simulate = 2\n",
      "\n",
      " Saving... tmax = 0.710000\n",
      "Reading C(t) from file. From t = 0.690000\n",
      "Finish reading C(t) from file. Until t = 0.700000\n",
      "\n",
      " Starting evolution...\n",
      "Number time steps going to simulate = 2\n",
      "\n",
      " Saving... tmax = 0.700000\n"
     ]
    },
    {
     "name": "stderr",
     "output_type": "stream",
     "text": [
      "Clipping input data to the valid range for imshow with RGB data ([0..1] for floats or [0..255] for integers).\n"
     ]
    },
    {
     "name": "stdout",
     "output_type": "stream",
     "text": [
      "Reading C(t) from file. From t = 0.710000\n",
      "Finish reading C(t) from file. Until t = 0.720000\n",
      "\n",
      " Starting evolution...\n",
      "Number time steps going to simulate = 2\n",
      "\n",
      " Saving... tmax = 0.720000\n",
      "Reading C(t) from file. From t = 0.710000\n",
      "Finish reading C(t) from file. Until t = 0.720000\n",
      "\n",
      " Starting evolution...\n",
      "Number time steps going to simulate = 2\n",
      "\n",
      " Saving... tmax = 0.720000\n",
      "Reading C(t) from file. From t = 0.700000\n",
      "Finish reading C(t) from file. Until t = 0.710000\n",
      "\n",
      " Starting evolution...\n",
      "Number time steps going to simulate = 2\n",
      "\n",
      " Saving... tmax = 0.710000\n"
     ]
    },
    {
     "name": "stderr",
     "output_type": "stream",
     "text": [
      "Clipping input data to the valid range for imshow with RGB data ([0..1] for floats or [0..255] for integers).\n"
     ]
    },
    {
     "name": "stdout",
     "output_type": "stream",
     "text": [
      "Reading C(t) from file. From t = 0.720000\n",
      "Finish reading C(t) from file. Until t = 0.730000\n",
      "\n",
      " Starting evolution...\n",
      "Number time steps going to simulate = 2\n",
      "\n",
      " Saving... tmax = 0.730000\n",
      "Reading C(t) from file. From t = 0.720000\n",
      "Finish reading C(t) from file. Until t = 0.730000\n",
      "\n",
      " Starting evolution...\n",
      "Number time steps going to simulate = 2\n",
      "\n",
      " Saving... tmax = 0.730000\n",
      "Reading C(t) from file. From t = 0.710000\n",
      "Finish reading C(t) from file. Until t = 0.720000\n",
      "\n",
      " Starting evolution...\n",
      "Number time steps going to simulate = 2\n",
      "\n",
      " Saving... tmax = 0.720000\n"
     ]
    },
    {
     "name": "stderr",
     "output_type": "stream",
     "text": [
      "Clipping input data to the valid range for imshow with RGB data ([0..1] for floats or [0..255] for integers).\n"
     ]
    },
    {
     "name": "stdout",
     "output_type": "stream",
     "text": [
      "Reading C(t) from file. From t = 0.730000\n",
      "Finish reading C(t) from file. Until t = 0.740000\n",
      "\n",
      " Starting evolution...\n",
      "Number time steps going to simulate = 2\n",
      "\n",
      " Saving... tmax = 0.740000\n",
      "Reading C(t) from file. From t = 0.730000\n",
      "Finish reading C(t) from file. Until t = 0.740000\n",
      "\n",
      " Starting evolution...\n",
      "Number time steps going to simulate = 2\n",
      "\n",
      " Saving... tmax = 0.740000\n",
      "Reading C(t) from file. From t = 0.720000\n",
      "Finish reading C(t) from file. Until t = 0.730000\n",
      "\n",
      " Starting evolution...\n",
      "Number time steps going to simulate = 2\n",
      "\n",
      " Saving... tmax = 0.730000\n"
     ]
    },
    {
     "name": "stderr",
     "output_type": "stream",
     "text": [
      "Clipping input data to the valid range for imshow with RGB data ([0..1] for floats or [0..255] for integers).\n"
     ]
    },
    {
     "name": "stdout",
     "output_type": "stream",
     "text": [
      "Reading C(t) from file. From t = 0.740000\n",
      "Finish reading C(t) from file. Until t = 0.750000\n",
      "\n",
      " Starting evolution...\n",
      "Number time steps going to simulate = 2\n",
      "\n",
      " Saving... tmax = 0.750000\n",
      "Reading C(t) from file. From t = 0.740000\n",
      "Finish reading C(t) from file. Until t = 0.750000\n",
      "\n",
      " Starting evolution...\n",
      "Number time steps going to simulate = 2\n",
      "\n",
      " Saving... tmax = 0.750000\n",
      "Reading C(t) from file. From t = 0.730000\n",
      "Finish reading C(t) from file. Until t = 0.740000\n",
      "\n",
      " Starting evolution...\n",
      "Number time steps going to simulate = 2\n",
      "\n",
      " Saving... tmax = 0.740000\n"
     ]
    },
    {
     "name": "stderr",
     "output_type": "stream",
     "text": [
      "Clipping input data to the valid range for imshow with RGB data ([0..1] for floats or [0..255] for integers).\n"
     ]
    },
    {
     "name": "stdout",
     "output_type": "stream",
     "text": [
      "Reading C(t) from file. From t = 0.750000\n",
      "Finish reading C(t) from file. Until t = 0.760000\n",
      "\n",
      " Starting evolution...\n",
      "Number time steps going to simulate = 2\n",
      "\n",
      " Saving... tmax = 0.760000\n",
      "Reading C(t) from file. From t = 0.750000\n",
      "Finish reading C(t) from file. Until t = 0.760000\n",
      "\n",
      " Starting evolution...\n",
      "Number time steps going to simulate = 2\n",
      "\n",
      " Saving... tmax = 0.760000\n",
      "Reading C(t) from file. From t = 0.740000\n",
      "Finish reading C(t) from file. Until t = 0.750000\n",
      "\n",
      " Starting evolution...\n",
      "Number time steps going to simulate = 2\n",
      "\n",
      " Saving... tmax = 0.750000\n"
     ]
    },
    {
     "name": "stderr",
     "output_type": "stream",
     "text": [
      "Clipping input data to the valid range for imshow with RGB data ([0..1] for floats or [0..255] for integers).\n"
     ]
    },
    {
     "name": "stdout",
     "output_type": "stream",
     "text": [
      "Reading C(t) from file. From t = 0.760000\n",
      "Finish reading C(t) from file. Until t = 0.770000\n",
      "\n",
      " Starting evolution...\n",
      "Number time steps going to simulate = 2\n",
      "\n",
      " Saving... tmax = 0.770000\n",
      "Reading C(t) from file. From t = 0.760000\n",
      "Finish reading C(t) from file. Until t = 0.770000\n",
      "\n",
      " Starting evolution...\n",
      "Number time steps going to simulate = 2\n",
      "\n",
      " Saving... tmax = 0.770000\n",
      "Reading C(t) from file. From t = 0.750000\n",
      "Finish reading C(t) from file. Until t = 0.760000\n",
      "\n",
      " Starting evolution...\n",
      "Number time steps going to simulate = 2\n",
      "\n",
      " Saving... tmax = 0.760000\n"
     ]
    },
    {
     "name": "stderr",
     "output_type": "stream",
     "text": [
      "Clipping input data to the valid range for imshow with RGB data ([0..1] for floats or [0..255] for integers).\n"
     ]
    },
    {
     "name": "stdout",
     "output_type": "stream",
     "text": [
      "Reading C(t) from file. From t = 0.770000\n",
      "Finish reading C(t) from file. Until t = 0.780000\n",
      "\n",
      " Starting evolution...\n",
      "Number time steps going to simulate = 2\n",
      "\n",
      " Saving... tmax = 0.780000\n",
      "Reading C(t) from file. From t = 0.770000\n",
      "Finish reading C(t) from file. Until t = 0.780000\n",
      "\n",
      " Starting evolution...\n",
      "Number time steps going to simulate = 2\n",
      "\n",
      " Saving... tmax = 0.780000\n",
      "Reading C(t) from file. From t = 0.760000\n",
      "Finish reading C(t) from file. Until t = 0.770000\n",
      "\n",
      " Starting evolution...\n",
      "Number time steps going to simulate = 2\n",
      "\n",
      " Saving... tmax = 0.770000\n"
     ]
    },
    {
     "name": "stderr",
     "output_type": "stream",
     "text": [
      "Clipping input data to the valid range for imshow with RGB data ([0..1] for floats or [0..255] for integers).\n"
     ]
    },
    {
     "name": "stdout",
     "output_type": "stream",
     "text": [
      "Reading C(t) from file. From t = 0.780000\n",
      "Finish reading C(t) from file. Until t = 0.790000\n",
      "\n",
      " Starting evolution...\n",
      "Number time steps going to simulate = 2\n",
      "\n",
      " Saving... tmax = 0.790000\n",
      "Reading C(t) from file. From t = 0.780000\n",
      "Finish reading C(t) from file. Until t = 0.790000\n",
      "\n",
      " Starting evolution...\n",
      "Number time steps going to simulate = 2\n",
      "\n",
      " Saving... tmax = 0.790000\n",
      "Reading C(t) from file. From t = 0.770000\n",
      "Finish reading C(t) from file. Until t = 0.780000\n",
      "\n",
      " Starting evolution...\n",
      "Number time steps going to simulate = 2\n",
      "\n",
      " Saving... tmax = 0.780000\n"
     ]
    },
    {
     "name": "stderr",
     "output_type": "stream",
     "text": [
      "Clipping input data to the valid range for imshow with RGB data ([0..1] for floats or [0..255] for integers).\n"
     ]
    },
    {
     "name": "stdout",
     "output_type": "stream",
     "text": [
      "Reading C(t) from file. From t = 0.790000\n",
      "Finish reading C(t) from file. Until t = 0.800000\n",
      "\n",
      " Starting evolution...\n",
      "Number time steps going to simulate = 2\n",
      "\n",
      " Saving... tmax = 0.800000\n",
      "Reading C(t) from file. From t = 0.790000\n",
      "Finish reading C(t) from file. Until t = 0.800000\n",
      "\n",
      " Starting evolution...\n",
      "Number time steps going to simulate = 2\n",
      "\n",
      " Saving... tmax = 0.800000\n",
      "Reading C(t) from file. From t = 0.780000\n",
      "Finish reading C(t) from file. Until t = 0.790000\n",
      "\n",
      " Starting evolution...\n",
      "Number time steps going to simulate = 2\n",
      "\n",
      " Saving... tmax = 0.790000\n"
     ]
    },
    {
     "name": "stderr",
     "output_type": "stream",
     "text": [
      "Clipping input data to the valid range for imshow with RGB data ([0..1] for floats or [0..255] for integers).\n"
     ]
    },
    {
     "name": "stdout",
     "output_type": "stream",
     "text": [
      "Reading C(t) from file. From t = 0.800000\n",
      "Finish reading C(t) from file. Until t = 0.810000\n",
      "\n",
      " Starting evolution...\n",
      "Number time steps going to simulate = 2\n",
      "\n",
      " Saving... tmax = 0.810000\n",
      "Reading C(t) from file. From t = 0.800000\n",
      "Finish reading C(t) from file. Until t = 0.810000\n",
      "\n",
      " Starting evolution...\n",
      "Number time steps going to simulate = 2\n",
      "\n",
      " Saving... tmax = 0.810000\n",
      "Reading C(t) from file. From t = 0.790000\n",
      "Finish reading C(t) from file. Until t = 0.800000\n",
      "\n",
      " Starting evolution...\n",
      "Number time steps going to simulate = 2\n",
      "\n",
      " Saving... tmax = 0.800000\n"
     ]
    },
    {
     "name": "stderr",
     "output_type": "stream",
     "text": [
      "Clipping input data to the valid range for imshow with RGB data ([0..1] for floats or [0..255] for integers).\n"
     ]
    },
    {
     "name": "stdout",
     "output_type": "stream",
     "text": [
      "Reading C(t) from file. From t = 0.810000\n",
      "Finish reading C(t) from file. Until t = 0.820000\n",
      "\n",
      " Starting evolution...\n",
      "Number time steps going to simulate = 2\n",
      "\n",
      " Saving... tmax = 0.820000\n",
      "Reading C(t) from file. From t = 0.810000\n",
      "Finish reading C(t) from file. Until t = 0.820000\n",
      "\n",
      " Starting evolution...\n",
      "Number time steps going to simulate = 2\n",
      "\n",
      " Saving... tmax = 0.820000\n",
      "Reading C(t) from file. From t = 0.800000\n",
      "Finish reading C(t) from file. Until t = 0.810000\n",
      "\n",
      " Starting evolution...\n",
      "Number time steps going to simulate = 2\n",
      "\n",
      " Saving... tmax = 0.810000\n"
     ]
    },
    {
     "name": "stderr",
     "output_type": "stream",
     "text": [
      "Clipping input data to the valid range for imshow with RGB data ([0..1] for floats or [0..255] for integers).\n"
     ]
    },
    {
     "name": "stdout",
     "output_type": "stream",
     "text": [
      "Reading C(t) from file. From t = 0.820000\n",
      "Finish reading C(t) from file. Until t = 0.830000\n",
      "\n",
      " Starting evolution...\n",
      "Number time steps going to simulate = 2\n",
      "\n",
      " Saving... tmax = 0.830000\n",
      "Reading C(t) from file. From t = 0.820000\n",
      "Finish reading C(t) from file. Until t = 0.830000\n",
      "\n",
      " Starting evolution...\n",
      "Number time steps going to simulate = 2\n",
      "\n",
      " Saving... tmax = 0.830000\n",
      "Reading C(t) from file. From t = 0.810000\n",
      "Finish reading C(t) from file. Until t = 0.820000\n",
      "\n",
      " Starting evolution...\n",
      "Number time steps going to simulate = 2\n",
      "\n",
      " Saving... tmax = 0.820000\n"
     ]
    },
    {
     "name": "stderr",
     "output_type": "stream",
     "text": [
      "Clipping input data to the valid range for imshow with RGB data ([0..1] for floats or [0..255] for integers).\n"
     ]
    },
    {
     "name": "stdout",
     "output_type": "stream",
     "text": [
      "Reading C(t) from file. From t = 0.830000\n",
      "Finish reading C(t) from file. Until t = 0.840000\n",
      "\n",
      " Starting evolution...\n",
      "Number time steps going to simulate = 2\n",
      "\n",
      " Saving... tmax = 0.840000\n",
      "Reading C(t) from file. From t = 0.830000\n",
      "Finish reading C(t) from file. Until t = 0.840000\n",
      "\n",
      " Starting evolution...\n",
      "Number time steps going to simulate = 2\n",
      "\n",
      " Saving... tmax = 0.840000\n",
      "Reading C(t) from file. From t = 0.820000\n",
      "Finish reading C(t) from file. Until t = 0.830000\n",
      "\n",
      " Starting evolution...\n",
      "Number time steps going to simulate = 2\n",
      "\n",
      " Saving... tmax = 0.830000\n"
     ]
    },
    {
     "name": "stderr",
     "output_type": "stream",
     "text": [
      "Clipping input data to the valid range for imshow with RGB data ([0..1] for floats or [0..255] for integers).\n"
     ]
    },
    {
     "name": "stdout",
     "output_type": "stream",
     "text": [
      "Reading C(t) from file. From t = 0.840000\n",
      "Finish reading C(t) from file. Until t = 0.850000\n",
      "\n",
      " Starting evolution...\n",
      "Number time steps going to simulate = 2\n",
      "\n",
      " Saving... tmax = 0.850000\n",
      "Reading C(t) from file. From t = 0.840000\n",
      "Finish reading C(t) from file. Until t = 0.850000\n",
      "\n",
      " Starting evolution...\n",
      "Number time steps going to simulate = 2\n",
      "\n",
      " Saving... tmax = 0.850000\n",
      "Reading C(t) from file. From t = 0.830000\n",
      "Finish reading C(t) from file. Until t = 0.840000\n",
      "\n",
      " Starting evolution...\n",
      "Number time steps going to simulate = 2\n",
      "\n",
      " Saving... tmax = 0.840000\n"
     ]
    },
    {
     "name": "stderr",
     "output_type": "stream",
     "text": [
      "Clipping input data to the valid range for imshow with RGB data ([0..1] for floats or [0..255] for integers).\n"
     ]
    },
    {
     "name": "stdout",
     "output_type": "stream",
     "text": [
      "Reading C(t) from file. From t = 0.850000\n",
      "Finish reading C(t) from file. Until t = 0.860000\n",
      "\n",
      " Starting evolution...\n",
      "Number time steps going to simulate = 2\n",
      "\n",
      " Saving... tmax = 0.860000\n",
      "Reading C(t) from file. From t = 0.850000\n",
      "Finish reading C(t) from file. Until t = 0.860000\n",
      "\n",
      " Starting evolution...\n",
      "Number time steps going to simulate = 2\n",
      "\n",
      " Saving... tmax = 0.860000\n",
      "Reading C(t) from file. From t = 0.840000\n",
      "Finish reading C(t) from file. Until t = 0.850000\n",
      "\n",
      " Starting evolution...\n",
      "Number time steps going to simulate = 2\n",
      "\n",
      " Saving... tmax = 0.850000\n"
     ]
    },
    {
     "name": "stderr",
     "output_type": "stream",
     "text": [
      "Clipping input data to the valid range for imshow with RGB data ([0..1] for floats or [0..255] for integers).\n"
     ]
    },
    {
     "name": "stdout",
     "output_type": "stream",
     "text": [
      "Reading C(t) from file. From t = 0.860000\n",
      "Finish reading C(t) from file. Until t = 0.870000\n",
      "\n",
      " Starting evolution...\n",
      "Number time steps going to simulate = 2\n",
      "\n",
      " Saving... tmax = 0.870000\n",
      "Reading C(t) from file. From t = 0.860000\n",
      "Finish reading C(t) from file. Until t = 0.870000\n",
      "\n",
      " Starting evolution...\n",
      "Number time steps going to simulate = 2\n",
      "\n",
      " Saving... tmax = 0.870000\n",
      "Reading C(t) from file. From t = 0.850000\n",
      "Finish reading C(t) from file. Until t = 0.860000\n",
      "\n",
      " Starting evolution...\n",
      "Number time steps going to simulate = 2\n",
      "\n",
      " Saving... tmax = 0.860000\n"
     ]
    },
    {
     "name": "stderr",
     "output_type": "stream",
     "text": [
      "Clipping input data to the valid range for imshow with RGB data ([0..1] for floats or [0..255] for integers).\n"
     ]
    },
    {
     "name": "stdout",
     "output_type": "stream",
     "text": [
      "Reading C(t) from file. From t = 0.870000\n",
      "Finish reading C(t) from file. Until t = 0.880000\n",
      "\n",
      " Starting evolution...\n",
      "Number time steps going to simulate = 2\n",
      "\n",
      " Saving... tmax = 0.880000\n",
      "Reading C(t) from file. From t = 0.870000\n",
      "Finish reading C(t) from file. Until t = 0.880000\n",
      "\n",
      " Starting evolution...\n",
      "Number time steps going to simulate = 2\n",
      "\n",
      " Saving... tmax = 0.880000\n",
      "Reading C(t) from file. From t = 0.860000\n",
      "Finish reading C(t) from file. Until t = 0.870000\n",
      "\n",
      " Starting evolution...\n",
      "Number time steps going to simulate = 2\n",
      "\n",
      " Saving... tmax = 0.870000\n"
     ]
    },
    {
     "name": "stderr",
     "output_type": "stream",
     "text": [
      "Clipping input data to the valid range for imshow with RGB data ([0..1] for floats or [0..255] for integers).\n"
     ]
    },
    {
     "name": "stdout",
     "output_type": "stream",
     "text": [
      "Reading C(t) from file. From t = 0.880000\n",
      "Finish reading C(t) from file. Until t = 0.890000\n",
      "\n",
      " Starting evolution...\n",
      "Number time steps going to simulate = 2\n",
      "\n",
      " Saving... tmax = 0.890000\n",
      "Reading C(t) from file. From t = 0.880000\n",
      "Finish reading C(t) from file. Until t = 0.890000\n",
      "\n",
      " Starting evolution...\n",
      "Number time steps going to simulate = 2\n",
      "\n",
      " Saving... tmax = 0.890000\n",
      "Reading C(t) from file. From t = 0.870000\n",
      "Finish reading C(t) from file. Until t = 0.880000\n",
      "\n",
      " Starting evolution...\n",
      "Number time steps going to simulate = 2\n",
      "\n",
      " Saving... tmax = 0.880000\n"
     ]
    },
    {
     "name": "stderr",
     "output_type": "stream",
     "text": [
      "Clipping input data to the valid range for imshow with RGB data ([0..1] for floats or [0..255] for integers).\n"
     ]
    },
    {
     "name": "stdout",
     "output_type": "stream",
     "text": [
      "Reading C(t) from file. From t = 0.890000\n",
      "Finish reading C(t) from file. Until t = 0.900000\n",
      "\n",
      " Starting evolution...\n",
      "Number time steps going to simulate = 2\n",
      "\n",
      " Saving... tmax = 0.900000\n",
      "Reading C(t) from file. From t = 0.890000\n",
      "Finish reading C(t) from file. Until t = 0.900000\n",
      "\n",
      " Starting evolution...\n",
      "Number time steps going to simulate = 2\n",
      "\n",
      " Saving... tmax = 0.900000\n",
      "Reading C(t) from file. From t = 0.880000\n",
      "Finish reading C(t) from file. Until t = 0.890000\n",
      "\n",
      " Starting evolution...\n",
      "Number time steps going to simulate = 2\n",
      "\n",
      " Saving... tmax = 0.890000\n"
     ]
    },
    {
     "name": "stderr",
     "output_type": "stream",
     "text": [
      "Clipping input data to the valid range for imshow with RGB data ([0..1] for floats or [0..255] for integers).\n"
     ]
    },
    {
     "name": "stdout",
     "output_type": "stream",
     "text": [
      "Reading C(t) from file. From t = 0.900000\n",
      "Finish reading C(t) from file. Until t = 0.910000\n",
      "\n",
      " Starting evolution...\n",
      "Number time steps going to simulate = 2\n",
      "\n",
      " Saving... tmax = 0.910000\n",
      "Reading C(t) from file. From t = 0.900000\n",
      "Finish reading C(t) from file. Until t = 0.910000\n",
      "\n",
      " Starting evolution...\n",
      "Number time steps going to simulate = 2\n",
      "\n",
      " Saving... tmax = 0.910000\n",
      "Reading C(t) from file. From t = 0.890000\n",
      "Finish reading C(t) from file. Until t = 0.900000\n",
      "\n",
      " Starting evolution...\n",
      "Number time steps going to simulate = 2\n",
      "\n",
      " Saving... tmax = 0.900000\n"
     ]
    },
    {
     "name": "stderr",
     "output_type": "stream",
     "text": [
      "Clipping input data to the valid range for imshow with RGB data ([0..1] for floats or [0..255] for integers).\n"
     ]
    },
    {
     "name": "stdout",
     "output_type": "stream",
     "text": [
      "Reading C(t) from file. From t = 0.910000\n",
      "Finish reading C(t) from file. Until t = 0.920000\n",
      "\n",
      " Starting evolution...\n",
      "Number time steps going to simulate = 2\n",
      "\n",
      " Saving... tmax = 0.920000\n",
      "Reading C(t) from file. From t = 0.910000\n",
      "Finish reading C(t) from file. Until t = 0.920000\n",
      "\n",
      " Starting evolution...\n",
      "Number time steps going to simulate = 2\n",
      "\n",
      " Saving... tmax = 0.920000\n",
      "Reading C(t) from file. From t = 0.900000\n",
      "Finish reading C(t) from file. Until t = 0.910000\n",
      "\n",
      " Starting evolution...\n",
      "Number time steps going to simulate = 2\n",
      "\n",
      " Saving... tmax = 0.910000\n"
     ]
    },
    {
     "name": "stderr",
     "output_type": "stream",
     "text": [
      "Clipping input data to the valid range for imshow with RGB data ([0..1] for floats or [0..255] for integers).\n"
     ]
    },
    {
     "name": "stdout",
     "output_type": "stream",
     "text": [
      "Reading C(t) from file. From t = 0.920000\n",
      "Finish reading C(t) from file. Until t = 0.930000\n",
      "\n",
      " Starting evolution...\n",
      "Number time steps going to simulate = 2\n",
      "\n",
      " Saving... tmax = 0.930000\n",
      "Reading C(t) from file. From t = 0.920000\n",
      "Finish reading C(t) from file. Until t = 0.930000\n",
      "\n",
      " Starting evolution...\n",
      "Number time steps going to simulate = 2\n",
      "\n",
      " Saving... tmax = 0.930000\n",
      "Reading C(t) from file. From t = 0.910000\n",
      "Finish reading C(t) from file. Until t = 0.920000\n",
      "\n",
      " Starting evolution...\n",
      "Number time steps going to simulate = 2\n",
      "\n",
      " Saving... tmax = 0.920000\n"
     ]
    },
    {
     "name": "stderr",
     "output_type": "stream",
     "text": [
      "Clipping input data to the valid range for imshow with RGB data ([0..1] for floats or [0..255] for integers).\n"
     ]
    },
    {
     "name": "stdout",
     "output_type": "stream",
     "text": [
      "Reading C(t) from file. From t = 0.930000\n",
      "Finish reading C(t) from file. Until t = 0.940000\n",
      "\n",
      " Starting evolution...\n",
      "Number time steps going to simulate = 2\n",
      "\n",
      " Saving... tmax = 0.940000\n",
      "Reading C(t) from file. From t = 0.930000\n",
      "Finish reading C(t) from file. Until t = 0.940000\n",
      "\n",
      " Starting evolution...\n",
      "Number time steps going to simulate = 2\n",
      "\n",
      " Saving... tmax = 0.940000\n",
      "Reading C(t) from file. From t = 0.920000\n",
      "Finish reading C(t) from file. Until t = 0.930000\n",
      "\n",
      " Starting evolution...\n",
      "Number time steps going to simulate = 2\n",
      "\n",
      " Saving... tmax = 0.930000\n"
     ]
    },
    {
     "name": "stderr",
     "output_type": "stream",
     "text": [
      "Clipping input data to the valid range for imshow with RGB data ([0..1] for floats or [0..255] for integers).\n"
     ]
    },
    {
     "name": "stdout",
     "output_type": "stream",
     "text": [
      "Reading C(t) from file. From t = 0.940000\n",
      "Finish reading C(t) from file. Until t = 0.950000\n",
      "\n",
      " Starting evolution...\n",
      "Number time steps going to simulate = 2\n",
      "\n",
      " Saving... tmax = 0.950000\n",
      "Reading C(t) from file. From t = 0.940000\n",
      "Finish reading C(t) from file. Until t = 0.950000\n",
      "\n",
      " Starting evolution...\n",
      "Number time steps going to simulate = 2\n",
      "\n",
      " Saving... tmax = 0.950000\n",
      "Reading C(t) from file. From t = 0.930000\n",
      "Finish reading C(t) from file. Until t = 0.940000\n",
      "\n",
      " Starting evolution...\n",
      "Number time steps going to simulate = 2\n",
      "\n",
      " Saving... tmax = 0.940000\n"
     ]
    },
    {
     "name": "stderr",
     "output_type": "stream",
     "text": [
      "Clipping input data to the valid range for imshow with RGB data ([0..1] for floats or [0..255] for integers).\n"
     ]
    },
    {
     "name": "stdout",
     "output_type": "stream",
     "text": [
      "Reading C(t) from file. From t = 0.950000\n",
      "Finish reading C(t) from file. Until t = 0.960000\n",
      "\n",
      " Starting evolution...\n",
      "Number time steps going to simulate = 2\n",
      "\n",
      " Saving... tmax = 0.960000\n",
      "Reading C(t) from file. From t = 0.950000\n",
      "Finish reading C(t) from file. Until t = 0.960000\n",
      "\n",
      " Starting evolution...\n",
      "Number time steps going to simulate = 2\n",
      "\n",
      " Saving... tmax = 0.960000\n",
      "Reading C(t) from file. From t = 0.940000\n",
      "Finish reading C(t) from file. Until t = 0.950000\n",
      "\n",
      " Starting evolution...\n",
      "Number time steps going to simulate = 2\n",
      "\n",
      " Saving... tmax = 0.950000\n"
     ]
    },
    {
     "name": "stderr",
     "output_type": "stream",
     "text": [
      "Clipping input data to the valid range for imshow with RGB data ([0..1] for floats or [0..255] for integers).\n"
     ]
    },
    {
     "name": "stdout",
     "output_type": "stream",
     "text": [
      "Reading C(t) from file. From t = 0.960000\n",
      "Finish reading C(t) from file. Until t = 0.970000\n",
      "\n",
      " Starting evolution...\n",
      "Number time steps going to simulate = 2\n",
      "\n",
      " Saving... tmax = 0.970000\n",
      "Reading C(t) from file. From t = 0.960000\n",
      "Finish reading C(t) from file. Until t = 0.970000\n",
      "\n",
      " Starting evolution...\n",
      "Number time steps going to simulate = 2\n",
      "\n",
      " Saving... tmax = 0.970000\n",
      "Reading C(t) from file. From t = 0.950000\n",
      "Finish reading C(t) from file. Until t = 0.960000\n",
      "\n",
      " Starting evolution...\n",
      "Number time steps going to simulate = 2\n",
      "\n",
      " Saving... tmax = 0.960000\n"
     ]
    }
   ],
   "source": [
    "name = \"28_10_24_C\"\n",
    "N = 1024\n",
    "tspan = 10\n",
    "dt = 0.01\n",
    "t = \"0\"\n",
    "\n",
    "save_dir = \"../.saves/\"+name\n",
    "if not os.path.exists(save_dir+\"/\"):\n",
    "    os.makedirs(save_dir+\"/\")\n",
    "if not os.path.exists(save_dir+\"/snapshots/\"):\n",
    "    os.makedirs(save_dir+\"/snapshots/\")\n",
    "images = []\n",
    "\n",
    "while float(t) < tspan:\n",
    "    # EVOLVE\n",
    "\n",
    "    os.system(\"cd ..; ./.bin/tdgl \"+str(dt)+\" '\"+name+\"0'\")\n",
    "    os.system(\"cd ..; ./.bin/tdgl \"+str(dt)+\" '\"+name+\"1'\")\n",
    "    os.system(\"cd ..; ./.bin/tdgl \"+str(dt)+\" '\"+name+\"2'\")\n",
    "\n",
    "    # READ\n",
    "\n",
    "    img_t = np.zeros((N,N,3))\n",
    "    for c in np.array([0,1,2]): #0:R; 1:G; 2:B\n",
    "        f = open(save_dir + str(c) + \"/state.dat\",\"r\")\n",
    "        i = 0\n",
    "        j = 0\n",
    "        params = 0\n",
    "        for row in f:\n",
    "            if params == 0:\n",
    "                N, t, dx = row.split(\" \")\n",
    "                N = int(N)\n",
    "                params = 1\n",
    "            else:\n",
    "                x, y, var = row.split(\" \")\n",
    "                img_t[i,j,c] = float(var)\n",
    "                \n",
    "                j = j + 1\n",
    "                if j >= N:\n",
    "                    i = i + 1\n",
    "                    j = 0\n",
    "        f.close()\n",
    "\n",
    "    # SAVE\n",
    "    plt.imshow(img_t)\n",
    "    \n",
    "    filename = save_dir+\"/snapshots/\"+t+\".png\"\n",
    "    plt.savefig(filename)\n",
    "    #images.append(imageio.imread(filename))"
   ]
  },
  {
   "cell_type": "code",
   "execution_count": 6,
   "metadata": {},
   "outputs": [
    {
     "name": "stderr",
     "output_type": "stream",
     "text": [
      "/tmp/ipykernel_9226/382119286.py:13: DeprecationWarning: Starting with ImageIO v3 the behavior of this function will switch to that of iio.v3.imread. To keep the current behavior (and make this warning disappear) use `import imageio.v2 as imageio` or call `imageio.v2.imread` directly.\n",
      "  images.append(imageio.imread(save_dir+\"/snapshots/\"+str(number)+\".png\"))\n"
     ]
    },
    {
     "ename": "FileNotFoundError",
     "evalue": "No such file: '/home/rocco/Desktop/tdgl/2D/.saves/28_10_24_C/snapshots/0.0.png'",
     "output_type": "error",
     "traceback": [
      "\u001b[0;31m---------------------------------------------------------------------------\u001b[0m",
      "\u001b[0;31mFileNotFoundError\u001b[0m                         Traceback (most recent call last)",
      "Cell \u001b[0;32mIn[6], line 13\u001b[0m\n\u001b[1;32m     11\u001b[0m onlynumbers\u001b[38;5;241m.\u001b[39msort()\n\u001b[1;32m     12\u001b[0m \u001b[38;5;28;01mfor\u001b[39;00m number \u001b[38;5;129;01min\u001b[39;00m onlynumbers:\n\u001b[0;32m---> 13\u001b[0m     images\u001b[38;5;241m.\u001b[39mappend(\u001b[43mimageio\u001b[49m\u001b[38;5;241;43m.\u001b[39;49m\u001b[43mimread\u001b[49m\u001b[43m(\u001b[49m\u001b[43msave_dir\u001b[49m\u001b[38;5;241;43m+\u001b[39;49m\u001b[38;5;124;43m\"\u001b[39;49m\u001b[38;5;124;43m/snapshots/\u001b[39;49m\u001b[38;5;124;43m\"\u001b[39;49m\u001b[38;5;241;43m+\u001b[39;49m\u001b[38;5;28;43mstr\u001b[39;49m\u001b[43m(\u001b[49m\u001b[43mnumber\u001b[49m\u001b[43m)\u001b[49m\u001b[38;5;241;43m+\u001b[39;49m\u001b[38;5;124;43m\"\u001b[39;49m\u001b[38;5;124;43m.png\u001b[39;49m\u001b[38;5;124;43m\"\u001b[39;49m\u001b[43m)\u001b[49m)\n\u001b[1;32m     14\u001b[0m imageio\u001b[38;5;241m.\u001b[39mmimsave(save_dir\u001b[38;5;241m+\u001b[39m\u001b[38;5;124m\"\u001b[39m\u001b[38;5;124m/movie.gif\u001b[39m\u001b[38;5;124m\"\u001b[39m, images,fps\u001b[38;5;241m=\u001b[39m\u001b[38;5;241m10\u001b[39m)\n",
      "File \u001b[0;32m~/.local/lib/python3.10/site-packages/imageio/__init__.py:97\u001b[0m, in \u001b[0;36mimread\u001b[0;34m(uri, format, **kwargs)\u001b[0m\n\u001b[1;32m     68\u001b[0m \u001b[38;5;250m\u001b[39m\u001b[38;5;124;03m\"\"\"imread(uri, format=None, **kwargs)\u001b[39;00m\n\u001b[1;32m     69\u001b[0m \n\u001b[1;32m     70\u001b[0m \u001b[38;5;124;03mReads an image from the specified file. Returns a numpy array, which\u001b[39;00m\n\u001b[0;32m   (...)\u001b[0m\n\u001b[1;32m     86\u001b[0m \u001b[38;5;124;03m    to see what arguments are available for a particular format.\u001b[39;00m\n\u001b[1;32m     87\u001b[0m \u001b[38;5;124;03m\"\"\"\u001b[39;00m\n\u001b[1;32m     89\u001b[0m warnings\u001b[38;5;241m.\u001b[39mwarn(\n\u001b[1;32m     90\u001b[0m     \u001b[38;5;124m\"\u001b[39m\u001b[38;5;124mStarting with ImageIO v3 the behavior of this function will switch to that of\u001b[39m\u001b[38;5;124m\"\u001b[39m\n\u001b[1;32m     91\u001b[0m     \u001b[38;5;124m\"\u001b[39m\u001b[38;5;124m iio.v3.imread. To keep the current behavior (and make this warning disappear)\u001b[39m\u001b[38;5;124m\"\u001b[39m\n\u001b[0;32m   (...)\u001b[0m\n\u001b[1;32m     94\u001b[0m     stacklevel\u001b[38;5;241m=\u001b[39m\u001b[38;5;241m2\u001b[39m,\n\u001b[1;32m     95\u001b[0m )\n\u001b[0;32m---> 97\u001b[0m \u001b[38;5;28;01mreturn\u001b[39;00m \u001b[43mimread_v2\u001b[49m\u001b[43m(\u001b[49m\u001b[43muri\u001b[49m\u001b[43m,\u001b[49m\u001b[43m \u001b[49m\u001b[38;5;28;43mformat\u001b[39;49m\u001b[38;5;241;43m=\u001b[39;49m\u001b[38;5;28;43mformat\u001b[39;49m\u001b[43m,\u001b[49m\u001b[43m \u001b[49m\u001b[38;5;241;43m*\u001b[39;49m\u001b[38;5;241;43m*\u001b[39;49m\u001b[43mkwargs\u001b[49m\u001b[43m)\u001b[49m\n",
      "File \u001b[0;32m~/.local/lib/python3.10/site-packages/imageio/v2.py:359\u001b[0m, in \u001b[0;36mimread\u001b[0;34m(uri, format, **kwargs)\u001b[0m\n\u001b[1;32m    356\u001b[0m imopen_args \u001b[38;5;241m=\u001b[39m decypher_format_arg(\u001b[38;5;28mformat\u001b[39m)\n\u001b[1;32m    357\u001b[0m imopen_args[\u001b[38;5;124m\"\u001b[39m\u001b[38;5;124mlegacy_mode\u001b[39m\u001b[38;5;124m\"\u001b[39m] \u001b[38;5;241m=\u001b[39m \u001b[38;5;28;01mTrue\u001b[39;00m\n\u001b[0;32m--> 359\u001b[0m \u001b[38;5;28;01mwith\u001b[39;00m \u001b[43mimopen\u001b[49m\u001b[43m(\u001b[49m\u001b[43muri\u001b[49m\u001b[43m,\u001b[49m\u001b[43m \u001b[49m\u001b[38;5;124;43m\"\u001b[39;49m\u001b[38;5;124;43mri\u001b[39;49m\u001b[38;5;124;43m\"\u001b[39;49m\u001b[43m,\u001b[49m\u001b[43m \u001b[49m\u001b[38;5;241;43m*\u001b[39;49m\u001b[38;5;241;43m*\u001b[39;49m\u001b[43mimopen_args\u001b[49m\u001b[43m)\u001b[49m \u001b[38;5;28;01mas\u001b[39;00m file:\n\u001b[1;32m    360\u001b[0m     result \u001b[38;5;241m=\u001b[39m file\u001b[38;5;241m.\u001b[39mread(index\u001b[38;5;241m=\u001b[39m\u001b[38;5;241m0\u001b[39m, \u001b[38;5;241m*\u001b[39m\u001b[38;5;241m*\u001b[39mkwargs)\n\u001b[1;32m    362\u001b[0m \u001b[38;5;28;01mreturn\u001b[39;00m result\n",
      "File \u001b[0;32m~/.local/lib/python3.10/site-packages/imageio/core/imopen.py:113\u001b[0m, in \u001b[0;36mimopen\u001b[0;34m(uri, io_mode, plugin, extension, format_hint, legacy_mode, **kwargs)\u001b[0m\n\u001b[1;32m    111\u001b[0m     request\u001b[38;5;241m.\u001b[39mformat_hint \u001b[38;5;241m=\u001b[39m format_hint\n\u001b[1;32m    112\u001b[0m \u001b[38;5;28;01melse\u001b[39;00m:\n\u001b[0;32m--> 113\u001b[0m     request \u001b[38;5;241m=\u001b[39m \u001b[43mRequest\u001b[49m\u001b[43m(\u001b[49m\u001b[43muri\u001b[49m\u001b[43m,\u001b[49m\u001b[43m \u001b[49m\u001b[43mio_mode\u001b[49m\u001b[43m,\u001b[49m\u001b[43m \u001b[49m\u001b[43mformat_hint\u001b[49m\u001b[38;5;241;43m=\u001b[39;49m\u001b[43mformat_hint\u001b[49m\u001b[43m,\u001b[49m\u001b[43m \u001b[49m\u001b[43mextension\u001b[49m\u001b[38;5;241;43m=\u001b[39;49m\u001b[43mextension\u001b[49m\u001b[43m)\u001b[49m\n\u001b[1;32m    115\u001b[0m source \u001b[38;5;241m=\u001b[39m \u001b[38;5;124m\"\u001b[39m\u001b[38;5;124m<bytes>\u001b[39m\u001b[38;5;124m\"\u001b[39m \u001b[38;5;28;01mif\u001b[39;00m \u001b[38;5;28misinstance\u001b[39m(uri, \u001b[38;5;28mbytes\u001b[39m) \u001b[38;5;28;01melse\u001b[39;00m uri\n\u001b[1;32m    117\u001b[0m \u001b[38;5;66;03m# fast-path based on plugin\u001b[39;00m\n\u001b[1;32m    118\u001b[0m \u001b[38;5;66;03m# (except in legacy mode)\u001b[39;00m\n",
      "File \u001b[0;32m~/.local/lib/python3.10/site-packages/imageio/core/request.py:247\u001b[0m, in \u001b[0;36mRequest.__init__\u001b[0;34m(self, uri, mode, extension, format_hint, **kwargs)\u001b[0m\n\u001b[1;32m    244\u001b[0m     \u001b[38;5;28;01mraise\u001b[39;00m \u001b[38;5;167;01mValueError\u001b[39;00m(\u001b[38;5;124mf\u001b[39m\u001b[38;5;124m\"\u001b[39m\u001b[38;5;124mInvalid Request.Mode: \u001b[39m\u001b[38;5;132;01m{\u001b[39;00mmode\u001b[38;5;132;01m}\u001b[39;00m\u001b[38;5;124m\"\u001b[39m)\n\u001b[1;32m    246\u001b[0m \u001b[38;5;66;03m# Parse what was given\u001b[39;00m\n\u001b[0;32m--> 247\u001b[0m \u001b[38;5;28;43mself\u001b[39;49m\u001b[38;5;241;43m.\u001b[39;49m\u001b[43m_parse_uri\u001b[49m\u001b[43m(\u001b[49m\u001b[43muri\u001b[49m\u001b[43m)\u001b[49m\n\u001b[1;32m    249\u001b[0m \u001b[38;5;66;03m# Set extension\u001b[39;00m\n\u001b[1;32m    250\u001b[0m \u001b[38;5;28;01mif\u001b[39;00m extension \u001b[38;5;129;01mis\u001b[39;00m \u001b[38;5;129;01mnot\u001b[39;00m \u001b[38;5;28;01mNone\u001b[39;00m:\n",
      "File \u001b[0;32m~/.local/lib/python3.10/site-packages/imageio/core/request.py:407\u001b[0m, in \u001b[0;36mRequest._parse_uri\u001b[0;34m(self, uri)\u001b[0m\n\u001b[1;32m    404\u001b[0m \u001b[38;5;28;01mif\u001b[39;00m is_read_request:\n\u001b[1;32m    405\u001b[0m     \u001b[38;5;66;03m# Reading: check that the file exists (but is allowed a dir)\u001b[39;00m\n\u001b[1;32m    406\u001b[0m     \u001b[38;5;28;01mif\u001b[39;00m \u001b[38;5;129;01mnot\u001b[39;00m os\u001b[38;5;241m.\u001b[39mpath\u001b[38;5;241m.\u001b[39mexists(fn):\n\u001b[0;32m--> 407\u001b[0m         \u001b[38;5;28;01mraise\u001b[39;00m \u001b[38;5;167;01mFileNotFoundError\u001b[39;00m(\u001b[38;5;124m\"\u001b[39m\u001b[38;5;124mNo such file: \u001b[39m\u001b[38;5;124m'\u001b[39m\u001b[38;5;132;01m%s\u001b[39;00m\u001b[38;5;124m'\u001b[39m\u001b[38;5;124m\"\u001b[39m \u001b[38;5;241m%\u001b[39m fn)\n\u001b[1;32m    408\u001b[0m \u001b[38;5;28;01melse\u001b[39;00m:\n\u001b[1;32m    409\u001b[0m     \u001b[38;5;66;03m# Writing: check that the directory to write to does exist\u001b[39;00m\n\u001b[1;32m    410\u001b[0m     dn \u001b[38;5;241m=\u001b[39m os\u001b[38;5;241m.\u001b[39mpath\u001b[38;5;241m.\u001b[39mdirname(fn)\n",
      "\u001b[0;31mFileNotFoundError\u001b[0m: No such file: '/home/rocco/Desktop/tdgl/2D/.saves/28_10_24_C/snapshots/0.0.png'"
     ]
    }
   ],
   "source": [
    "# Make a gif\n",
    "from os import listdir\n",
    "from os.path import isfile, join\n",
    "\n",
    "onlyfiles = [f for f in listdir(save_dir+\"/snapshots/\") if isfile(join(save_dir+\"/snapshots/\", f))]\n",
    "onlynumbers = []\n",
    "for f in onlyfiles:\n",
    "    var = f.split(\".\")\n",
    "    number = round(float(var[0]),6)\n",
    "    onlynumbers.append(number)\n",
    "onlynumbers.sort()\n",
    "for number in onlynumbers:\n",
    "    images.append(imageio.imread(save_dir+\"/snapshots/\"+str(number)+\".png\"))\n",
    "imageio.mimsave(save_dir+\"/movie.gif\", images,fps=10)"
   ]
  }
 ],
 "metadata": {
  "kernelspec": {
   "display_name": "Python 3",
   "language": "python",
   "name": "python3"
  },
  "language_info": {
   "codemirror_mode": {
    "name": "ipython",
    "version": 3
   },
   "file_extension": ".py",
   "mimetype": "text/x-python",
   "name": "python",
   "nbconvert_exporter": "python",
   "pygments_lexer": "ipython3",
   "version": "3.10.12"
  }
 },
 "nbformat": 4,
 "nbformat_minor": 2
}
