{
 "cells": [
  {
   "cell_type": "code",
   "execution_count": 25,
   "metadata": {},
   "outputs": [],
   "source": [
    "import numpy as np\n",
    "from matplotlib import pyplot as plt\n",
    "import os, sys\n",
    "import shutil\n",
    "from datetime import datetime"
   ]
  },
  {
   "cell_type": "markdown",
   "metadata": {},
   "source": [
    "# Sample many times the structure factor at the specified times"
   ]
  },
  {
   "cell_type": "code",
   "execution_count": 26,
   "metadata": {},
   "outputs": [],
   "source": [
    "simul_name = \"30_10_24_D\"\n",
    "simul_dir = \"../.saves/\"+simul_name+\"/\"\n",
    "if not os.path.isdir(simul_dir):\n",
    "    sys.exit(\"You have to prepare the initial state and the fileCin.dat file\")"
   ]
  },
  {
   "cell_type": "code",
   "execution_count": null,
   "metadata": {},
   "outputs": [],
   "source": [
    "NumSamples = 1\n",
    "list_ts = [0.5, 1, 20, 100, 200, 500]"
   ]
  },
  {
   "cell_type": "code",
   "execution_count": 28,
   "metadata": {},
   "outputs": [],
   "source": [
    "tspan = list_ts[len(list_ts)-1]\n",
    "dx = 0.1\n",
    "N = 4096\n",
    "\n",
    "dt = 0.1\n",
    "dt_ini = 0.01"
   ]
  },
  {
   "cell_type": "code",
   "execution_count": 29,
   "metadata": {},
   "outputs": [],
   "source": [
    "def delete_files_main_dir(main_dir):\n",
    "    file_list = [\"fileq2Aveout.dat\", \"fileCout.dat\", \"fileellDW.dat\", \"fileSq.dat\", \"filesigma2ave.dat\", \"fileuave.dat\"]\n",
    "    for file in file_list:\n",
    "        open(main_dir+file, \"w\").close()"
   ]
  },
  {
   "cell_type": "code",
   "execution_count": null,
   "metadata": {},
   "outputs": [
    {
     "name": "stdout",
     "output_type": "stream",
     "text": [
      "New dx = 0.100000\n",
      "State prepared at: .saves/30_10_24_D/init.dat\n",
      "Reading C(t) from file. From t = 0.010000\n",
      "Finish reading C(t) from file. Until t = 0.500000\n",
      "\n",
      " Starting evolution...\n",
      "Number time steps going to simulate = 50\n",
      "\n",
      " Saving... tmax = 0.500000\n",
      "Saving S(q) at t = 0.5\n"
     ]
    }
   ],
   "source": [
    "# Create save directory\n",
    "i = 0\n",
    "index_list_ts = 0\n",
    "while i < NumSamples:\n",
    "    time = 0\n",
    "    index_list_ts = 0\n",
    "\n",
    "    # New simulation: prepare the state\n",
    "    delete_files_main_dir(simul_dir)\n",
    "    os.system(\"cd ..; ./.bin/datainit \"+str(N)+\" \"+str(0.1) + \" '\" + simul_name+\"'\")\n",
    "    # Initial dynamics: dt_ini\n",
    "    while time < tspan:\n",
    "        dtspan = list_ts[index_list_ts]-time\n",
    "        os.system(\"cd ..; ./.bin/tdgl \"+str(dtspan)+\" '\"+simul_name+\"'\")\n",
    "        time = time + dtspan\n",
    "        # Save the structure factor at the desired times\n",
    "        print(\"Saving S(q) at t = \"+str(time))\n",
    "        dir_save = \"structure_factor/\" + simul_name+\"/t=\"+str(time)+\"/\"\n",
    "        dir = \"../.saves/\" + dir_save\n",
    "        if not os.path.isdir(dir):\n",
    "            os.makedirs(dir)\n",
    "        shutil.copyfile(simul_dir + \"fileSq.dat\", dir + \"fileSq_\"+str(i)+\".dat\")\n",
    "        index_list_ts = index_list_ts + 1\n",
    "    # Save observables\n",
    "    observable_dir = simul_dir+str(i)+\"/\"\n",
    "    if not os.path.isdir(observable_dir):\n",
    "        os.makedirs(observable_dir)\n",
    "    shutil.copyfile(simul_dir + \"fileQ2.dat\", observable_dir + \"fileQ2.dat\")\n",
    "    shutil.copyfile(simul_dir + \"fileTotlenght.dat\", observable_dir + \"fileTotlenght.dat\")\n",
    "    shutil.copyfile(simul_dir + \"fileCout.dat\", observable_dir + \"fileCout.dat\")\n",
    "    i = i + 1"
   ]
  }
 ],
 "metadata": {
  "kernelspec": {
   "display_name": "Python 3",
   "language": "python",
   "name": "python3"
  },
  "language_info": {
   "codemirror_mode": {
    "name": "ipython",
    "version": 3
   },
   "file_extension": ".py",
   "mimetype": "text/x-python",
   "name": "python",
   "nbconvert_exporter": "python",
   "pygments_lexer": "ipython3",
   "version": "3.10.12"
  }
 },
 "nbformat": 4,
 "nbformat_minor": 2
}
